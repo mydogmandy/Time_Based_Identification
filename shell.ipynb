{
 "cells": [
  {
   "cell_type": "code",
   "execution_count": 1,
   "metadata": {},
   "outputs": [],
   "source": [
    "import pandas as pd\n",
    "import seaborn as sns\n",
    "import matplotlib.pyplot as plt\n",
    "\n",
    "from sqlalchemy import create_engine, func\n",
    "from sqlalchemy.orm import Session\n",
    "from sqlalchemy.ext.automap import automap_base\n",
    "import sqlalchemy\n",
    "import sqlite3 as sq\n",
    "\n",
    "import warnings\n",
    "warnings.filterwarnings('ignore')"
   ]
  },
  {
   "cell_type": "code",
   "execution_count": 2,
   "metadata": {},
   "outputs": [],
   "source": [
    "# Import dataset from Google Drive:\n",
    "url = ('https://drive.google.com/file/d/12tJP9WbbccaGDR0ugph6BW1aBkZeT-vA/view?usp=sharing')\n",
    "path = 'https://drive.google.com/uc?export=download&id='+url.split('/')[-2]\n",
    "\n",
    "df = pd.read_csv(path, dtype='str')"
   ]
  },
  {
   "cell_type": "code",
   "execution_count": 3,
   "metadata": {},
   "outputs": [
    {
     "name": "stdout",
     "output_type": "stream",
     "text": [
      "<class 'pandas.core.frame.DataFrame'>\n",
      "RangeIndex: 65535 entries, 0 to 65534\n",
      "Data columns (total 43 columns):\n",
      " #   Column                Non-Null Count  Dtype \n",
      "---  ------                --------------  ----- \n",
      " 0   SQI Date              65535 non-null  object\n",
      " 1   Failure Type          65535 non-null  object\n",
      " 2   Pro Number            65535 non-null  object\n",
      " 3   Employee Nbr          65102 non-null  object\n",
      " 4   Employee Name         65535 non-null  object\n",
      " 5   Job Title             65006 non-null  object\n",
      " 6   Handled Time          65535 non-null  object\n",
      " 7   Handled Date          65535 non-null  object\n",
      " 8   LTC Center - Shift    65535 non-null  object\n",
      " 9   Shipper Name          65533 non-null  object\n",
      " 10  LTC Center            65535 non-null  object\n",
      " 11  LTC District          62632 non-null  object\n",
      " 12  LTC Region            65535 non-null  object\n",
      " 13  Unit Nbr              65535 non-null  object\n",
      " 14  Delivery Date         65535 non-null  object\n",
      " 15  Origin Center         65535 non-null  object\n",
      " 16  Origin District       61337 non-null  object\n",
      " 17  Origin Region         65535 non-null  object\n",
      " 18  Dest Center           65535 non-null  object\n",
      " 19  Dest District         63344 non-null  object\n",
      " 20  Dest Region           65535 non-null  object\n",
      " 21  Consignee Name        65535 non-null  object\n",
      " 22  Consignee Nbr         65535 non-null  object\n",
      " 23  Consignee CAC         27883 non-null  object\n",
      " 24  Shipper Name.1        65533 non-null  object\n",
      " 25  Shipper Nbr           65534 non-null  object\n",
      " 26  Shipper CAC           27883 non-null  object\n",
      " 27  Service               65535 non-null  object\n",
      " 28  Live/Spot             65535 non-null  object\n",
      " 29  Shift                 65535 non-null  object\n",
      " 30  Refused               65535 non-null  object\n",
      " 31  SLC                   65535 non-null  object\n",
      " 32  LH Exception Center   65535 non-null  object\n",
      " 33  LH Excep Noted        65535 non-null  object\n",
      " 34  Bill To Acct          53658 non-null  object\n",
      " 35  Bill To CAC           27129 non-null  object\n",
      " 36  Last Close Center     65535 non-null  object\n",
      " 37  Last Closed Trailer   65535 non-null  object\n",
      " 38  Close Employee Nbr    49029 non-null  object\n",
      " 39  Close Employee Name   65535 non-null  object\n",
      " 40  Close Employee Title  48644 non-null  object\n",
      " 41  Close Timestamp       49029 non-null  object\n",
      " 42  Concealed             65535 non-null  object\n",
      "dtypes: object(43)\n",
      "memory usage: 21.5+ MB\n"
     ]
    }
   ],
   "source": [
    "df.info()"
   ]
  },
  {
   "cell_type": "code",
   "execution_count": null,
   "metadata": {},
   "outputs": [],
   "source": [
    "# Trim all whitespace from start & end of all data:\n",
    "def trim_all_columns(df):\n",
    "    def trim_strings(x): return x.strip() if isinstance(x, str) else x\n",
    "    df.applymap(trim_strings)\n",
    "\n",
    "trim_all_columns(df)"
   ]
  },
  {
   "cell_type": "code",
   "execution_count": null,
   "metadata": {},
   "outputs": [],
   "source": [
    "# Filter the database to show only shipments with a delivery date:\n",
    "df['Delivery Date'] = df[df['Delivery Date'].notna()]"
   ]
  },
  {
   "cell_type": "code",
   "execution_count": null,
   "metadata": {},
   "outputs": [],
   "source": [
    "# Drop columns with high percentages of null values:\n",
    "df = df.drop(['Bill To CAC', 'Consignee CAC', 'Shipper CAC', 'Close Employee Title',\n",
    "              'Close Timestamp', 'Close Employee Nbr', 'Bill To Acct', 'LTC Center - Shift',\n",
    "              'Unit Nbr', 'SLC', 'Concealed', 'Shipper Name'], axis=1)"
   ]
  },
  {
   "cell_type": "code",
   "execution_count": null,
   "metadata": {},
   "outputs": [],
   "source": [
    "# Set date columns to correct data type:\n",
    "df['SQI Date'] = pd.to_datetime(df['SQI Date'])\n",
    "df['Handled Date'] = pd.to_datetime(df['Handled Date'])\n",
    "df['Delivery Date'] = pd.to_datetime(df['Delivery Date'])"
   ]
  },
  {
   "cell_type": "code",
   "execution_count": null,
   "metadata": {},
   "outputs": [],
   "source": [
    "# All locations missing values are in the NA district, replace all nulls with 'NA':\n",
    "df['Origin District'] = df['Origin District'].fillna('NA')"
   ]
  },
  {
   "cell_type": "code",
   "execution_count": null,
   "metadata": {},
   "outputs": [],
   "source": [
    "# All locations missing values are in the NA district, replace all nulls with 'NA':\n",
    "df['LTC District'] = df['LTC District'].fillna('NA')"
   ]
  },
  {
   "cell_type": "code",
   "execution_count": null,
   "metadata": {},
   "outputs": [],
   "source": [
    "# All locations missing values are in the NA district, replace all nulls with 'NA':\n",
    "df['Dest District'] = df['Dest District'].fillna('NA')"
   ]
  },
  {
   "cell_type": "code",
   "execution_count": null,
   "metadata": {},
   "outputs": [],
   "source": [
    "# Change all ',' employee names to 'UNK':\n",
    "df['Employee Name'] = df['Employee Name'].replace({',': 'UNK'})\n",
    "df = df.rename(columns={'Shipper Name.1': 'Shipper Name',\n",
    "                        'LH Excep Noted': 'LH Exception Noted'})"
   ]
  },
  {
   "cell_type": "code",
   "execution_count": null,
   "metadata": {},
   "outputs": [],
   "source": [
    "# Create new column with hour range:\n",
    "df['Handled Hour'] = df['Handled Time'].str[0:2].replace({'00': '00:00-00:59', '0:': '00:00-00:59',\n",
    "                                                          '01': '01:00-01:59', '1:': '01:00-01:59',\n",
    "                                                          '02': '02:00-02:59', '2:': '02:00-02:59',\n",
    "                                                          '03': '03:00-03:59', '3:': '03:00-03:59',\n",
    "                                                          '04': '04:00-04:59', '4:': '04:00-04:59',\n",
    "                                                          '05': '05:00-05:59', '5:': '05:00-05:59',\n",
    "                                                          '06': '06:00-06:59', '6:': '06:00-06:59',\n",
    "                                                          '07': '07:00-07:59', '7:': '07:00-07:59',\n",
    "                                                          '08': '08:00-08:59', '8:': '08:00-08:59',\n",
    "                                                          '09': '09:00-09:59', '9:': '09:00-09:59',\n",
    "                                                          '10': '10:00-10:59',\n",
    "                                                          '11': '11:00-11:59',\n",
    "                                                          '12': '12:00-12:59',\n",
    "                                                          '13': '13:00-13:59',\n",
    "                                                          '14': '14:00-14:59',\n",
    "                                                          '15': '15:00-15:59',\n",
    "                                                          '16': '16:00-16:59',\n",
    "                                                          '17': '17:00-17:59',\n",
    "                                                          '18': '18:00-18:59',\n",
    "                                                          '19': '19:00-19:59',\n",
    "                                                          '20': '20:00-20:59',\n",
    "                                                          '21': '21:00-21:59',\n",
    "                                                          '22': '22:00-22:59',\n",
    "                                                          '23': '23:00-23:59'})"
   ]
  },
  {
   "cell_type": "code",
   "execution_count": null,
   "metadata": {},
   "outputs": [],
   "source": [
    "# Fix column name, create now column reflecting abbreviated days of the week:\n",
    "df['Failure Type'] = df['Failure Type'].replace({'Damage-refused': 'Damage-Refused'})\n",
    "df['Weekday'] = df['Handled Date'].dt.strftime('%a').str.upper()"
   ]
  },
  {
   "cell_type": "code",
   "execution_count": null,
   "metadata": {},
   "outputs": [],
   "source": [
    "# Replace remaining unknown values with 'UNK' \n",
    "df['Job Title'] = df['Job Title'].fillna('UNK')\n",
    "df['Employee Nbr'] = df['Employee Nbr'].fillna('UNK')\n",
    "df['Shipper Name'] = df['Shipper Name'].fillna('UNK')\n",
    "df['Shipper Nbr'] = df['Shipper Nbr'].fillna('UNK')"
   ]
  },
  {
   "cell_type": "code",
   "execution_count": null,
   "metadata": {},
   "outputs": [],
   "source": [
    "# Rename the database that has been cleaned, add underscores in column names:\n",
    "df.columns = df.columns.str.replace(' ', '_') \n",
    "df.columns = df.columns.str.replace('/', '_')"
   ]
  },
  {
   "cell_type": "markdown",
   "metadata": {},
   "source": [
    "## CREATE SQLITE DATABASE FOR DATA"
   ]
  },
  {
   "cell_type": "code",
   "execution_count": null,
   "metadata": {},
   "outputs": [],
   "source": [
    "fishfinder_data = df"
   ]
  },
  {
   "cell_type": "code",
   "execution_count": null,
   "metadata": {},
   "outputs": [],
   "source": [
    "fishfinder_data_copy = fishfinder_data.copy()"
   ]
  },
  {
   "cell_type": "code",
   "execution_count": null,
   "metadata": {},
   "outputs": [],
   "source": [
    "sql_data = 'fishfinder_app.sqlite'"
   ]
  },
  {
   "cell_type": "code",
   "execution_count": null,
   "metadata": {},
   "outputs": [],
   "source": [
    "# Create connection & push the data:\n",
    "\n",
    "conn = sq.connect(sql_data)\n",
    "cur = conn.cursor()\n",
    "\n",
    "cur.executescript('''\n",
    "DROP TABLE IF EXISTS \"FISHFINDER\";\n",
    "CREATE TABLE \"FISHFINDER\" (\n",
    "\t\"index\" INTEGER PRIMARY KEY AUTOINCREMENT,\n",
    "\t\"SQI_Date\" DATE NOT NULL,\n",
    "\t\"Failure_Type\" CHAR NOT NULL,\n",
    "\t\"Pro_Number\" CHAR NOT NULL,\n",
    "\t\"Employee_Nbr\" CHAR NOT NULL,\n",
    "    \"Employee_Name\" CHAR NOT NULL,\n",
    "    \"Job_Title\" CHAR NOT NULL,\n",
    "    \"Handled_Time\" CHAR NOT NULL,\n",
    "    \"Handled_Date\" CHAR NOT NULL,\n",
    "    \"LTC_Center\" CHAR NOT NULL,\n",
    "    \"LTC_District\" CHAR NOT NULL,\n",
    "    \"LTC_Region\" CHAR NOT NULL,\n",
    "    \"Delivery_Date\" DATE NOT NULL,\n",
    "    \"Origin_Center\" CHAR NOT NULL, \n",
    "    \"Origin_District\" CHAR NOT NULL,\n",
    "    \"Origin_Region\" CHAR NOT NULL,\n",
    "    \"Dest_Center\" CHAR NOT NULL,\n",
    "    \"Dest_District\" CHAR NOT NULL,\n",
    "    \"Dest_Region\" CHAR NOT NULL,\n",
    "    \"Consignee_Name\" CHAR NOT NULL,\n",
    "    \"Consignee_Nbr\" CHAR NOT NULL,\n",
    "    \"Shipper_Name\" CHAR NOT NULL,\n",
    "    \"Shipper_Nbr\" CHAR NOT NULL,\n",
    "    \"Service\" CHAR NOT NULL,\n",
    "    \"Live_Spot\" CHAR NOT NULL,\n",
    "    \"Shift\" CHAR NOT NULL,\n",
    "    \"Refused\" CHAR NOT NULL,\n",
    "    \"LH_Exception_Center\" CHAR NOT NULL,\n",
    "    \"LH_Exception_Noted\" CHAR NOT NULL,\n",
    "    \"Last_Close_Center\" CHAR NOT NULL,\n",
    "    \"Last_Closed_Trailer\" CHAR NOT NULL,\n",
    "    \"Close_Employee_Name\" CHAR NOT NULL,\n",
    "    \"Handled_Hour\" CHAR NOT NULL,\n",
    "    \"Weekday\" CHAR NOT NULL\n",
    ");\n",
    "\n",
    "''')"
   ]
  },
  {
   "cell_type": "code",
   "execution_count": null,
   "metadata": {
    "scrolled": true
   },
   "outputs": [],
   "source": [
    "# conn.commit()\n",
    "fishfinder_data.to_sql(\"FISHFINDER\", conn, if_exists='append', index=True)\n",
    "conn.commit()\n",
    "conn.close()\n",
    "# Reflect the Tables into SQLAlchemy ORM\n",
    "engine = create_engine(\"sqlite:///fishfinder_app.sqlite\")\n",
    "# Reflect an existing database into a new model:\n",
    "Base = automap_base()\n",
    "# Reflect the tables:\n",
    "Base.prepare(engine, reflect=True)\n",
    "# Save reference to the combined table:\n",
    "fishfinder = Base.classes.FISHFINDER\n",
    "# Create our session (link) from Python to the DB:\n",
    "session = Session(engine)"
   ]
  },
  {
   "cell_type": "markdown",
   "metadata": {},
   "source": [
    "## QUERY DATA FOR DATE RANGES"
   ]
  },
  {
   "cell_type": "code",
   "execution_count": null,
   "metadata": {},
   "outputs": [],
   "source": [
    "# Filter start & end:\n",
    "SET1_SD = input('Enter 1ST SET start date (YYYY-mm-dd)')\n",
    "SET1_ED = input('Enter 1ST SET end date (YYYY-mm-dd)')\n",
    "\n",
    "# Comparison start & end\n",
    "SET2_SD = input('Enter 2ND SET start date (YYYY-mm-dd)')\n",
    "SET2_ED = input('Enter 2ND SET end date (YYYY-mm-dd)')"
   ]
  },
  {
   "cell_type": "code",
   "execution_count": null,
   "metadata": {},
   "outputs": [],
   "source": [
    "# Perform a query to retrieve the main data from the FISHFINDER table:\n",
    "from sqlalchemy import cast,Text\n",
    "results = []\n",
    "results = session.query(fishfinder.Handled_Date,\n",
    "                        fishfinder.Shift,\n",
    "                        fishfinder.LTC_Center,\n",
    "                        fishfinder.Service,\n",
    "                        fishfinder.Failure_Type,\n",
    "                        fishfinder.Handled_Hour,\n",
    "                        fishfinder.Weekday).filter(\\\n",
    "                            fishfinder.Handled_Date >= SET1_SD,\n",
    "                            fishfinder.Handled_Date <= SET1_ED)\n",
    "\n",
    "df1 = pd.DataFrame(results, columns=['Handled Date',\n",
    "                                    'Shift',\n",
    "                                    'LTC Center',\n",
    "                                    'Service',\n",
    "                                    'Failure Type',\n",
    "                                    'Handled Hour',\n",
    "                                    'Weekday'])\n",
    "\n",
    "df1['Handled Date'] = pd.to_datetime(df1[\"Handled Date\"]).dt.date"
   ]
  },
  {
   "cell_type": "code",
   "execution_count": null,
   "metadata": {},
   "outputs": [],
   "source": [
    "# Perform a query to retrieve the comparison data from the FISHFINDER table:\n",
    "from sqlalchemy import cast,Text\n",
    "results2 = []\n",
    "results2 = session.query(fishfinder.Handled_Date,\n",
    "                        fishfinder.Shift,\n",
    "                        fishfinder.LTC_Center,\n",
    "                        fishfinder.Service,\n",
    "                        fishfinder.Failure_Type,\n",
    "                        fishfinder.Handled_Hour,\n",
    "                        fishfinder.Weekday).filter(\\\n",
    "                            fishfinder.Handled_Date >= SET2_SD,\n",
    "                            fishfinder.Handled_Date <= SET2_ED)\n",
    "\n",
    "df2 = pd.DataFrame(results2, columns=['Handled Date',\n",
    "                                    'Shift',\n",
    "                                    'LTC Center',\n",
    "                                    'Service',\n",
    "                                    'Failure Type',\n",
    "                                    'Handled Hour',\n",
    "                                    'Weekday'])\n",
    "\n",
    "df2['Handled Date'] = pd.to_datetime(df2[\"Handled Date\"]).dt.date"
   ]
  },
  {
   "cell_type": "markdown",
   "metadata": {},
   "source": [
    "## CREATE USER INPUTS FOR SEARCH FILTERS"
   ]
  },
  {
   "cell_type": "code",
   "execution_count": null,
   "metadata": {},
   "outputs": [],
   "source": [
    "# LTC Center input with defaults set as all locations:\n",
    "LTC = list(input('Enter LTC location (ALL CAPS): ').upper().strip().split(','))\n",
    "if LTC == ['']:\n",
    "    LTC = (list(df1['LTC Center'].unique()))\n",
    "\n",
    "# LTC Center comparison defaults set as all locations or input:    \n",
    "if len(LTC)==1:\n",
    "    LTC0 = LTC\n",
    "else:\n",
    "    LTC0 = (list(df2['LTC Center'].unique()))"
   ]
  },
  {
   "cell_type": "code",
   "execution_count": null,
   "metadata": {},
   "outputs": [],
   "source": [
    "# Shift input with defaults set as all shifts:\n",
    "SHIFT = list(input('Inbound, Outbound, or Hub (enter one): ').capitalize().strip().split(','))\n",
    "if SHIFT == ['']:\n",
    "    SHIFT = list(df1['Shift'].unique())"
   ]
  },
  {
   "cell_type": "code",
   "execution_count": null,
   "metadata": {},
   "outputs": [],
   "source": [
    "# Service input with defaults set as all shifts:\n",
    "SERVICE = list(input('PRTY or ECON (enter one): ').upper().strip().split(','))\n",
    "if SERVICE == ['']:\n",
    "    SERVICE = list(df1['Service'].unique())"
   ]
  },
  {
   "cell_type": "markdown",
   "metadata": {},
   "source": [
    "## CREATE DATAFRAMES FROM FILTERED DATA"
   ]
  },
  {
   "cell_type": "code",
   "execution_count": null,
   "metadata": {},
   "outputs": [],
   "source": [
    "# Create damage reference dataframe based on user inputs or default inputs:\n",
    "damage = df1.loc[(df1['Shift'].isin(SHIFT)\n",
    "                  & (df1['LTC Center'].isin(LTC))\n",
    "                  & (df1['Service'].isin(SERVICE))\n",
    "                  & (df1['Failure Type'] == 'Damage'))]"
   ]
  },
  {
   "cell_type": "code",
   "execution_count": null,
   "metadata": {},
   "outputs": [],
   "source": [
    "# Create shortage reference dataframe based on user inputs or default inputs:\n",
    "shortage = df1.loc[(df1['Shift'].isin(SHIFT)\n",
    "                    & (df1['LTC Center'].isin(LTC))\n",
    "                    & (df1['Service'].isin(SERVICE))\n",
    "                    & (df1['Failure Type'] == 'Shortage'))]"
   ]
  },
  {
   "cell_type": "code",
   "execution_count": null,
   "metadata": {},
   "outputs": [],
   "source": [
    "# Create refused reference dataframe based on user inputs or default inputs:\n",
    "refused = df1.loc[(df1['Shift'].isin(SHIFT)\n",
    "                   & (df1['LTC Center'].isin(LTC))\n",
    "                   & (df1['Service'].isin(SERVICE))\n",
    "                   & (df1['Failure Type'] == 'Damage-Refused'))]"
   ]
  },
  {
   "cell_type": "code",
   "execution_count": null,
   "metadata": {},
   "outputs": [],
   "source": [
    "# Create top layer total exception reference dataframe based on user inputs or default inputs:\n",
    "toplayer_SET1 = df1.loc[(df1['Shift'].isin(SHIFT)\n",
    "                        &df1['LTC Center'].isin(LTC))]"
   ]
  },
  {
   "cell_type": "code",
   "execution_count": null,
   "metadata": {},
   "outputs": [],
   "source": [
    "# Create middle layer damage reference dataframe based on user inputs or default inputs:\n",
    "middlelayer_SET1 = df1.loc[(df1['Shift'].isin(SHIFT)\n",
    "                           &df1['LTC Center'].isin(LTC)\n",
    "                           &df1['Failure Type'].isin(['Shortage', 'Damage-Refused']))]"
   ]
  },
  {
   "cell_type": "code",
   "execution_count": null,
   "metadata": {},
   "outputs": [],
   "source": [
    "# Create top layer total exception reference dataframe based on user inputs or default inputs:\n",
    "toplayer_SET2 = df2.loc[(df2['Shift'].isin(SHIFT)\n",
    "                        & df2['LTC Center'].isin(LTC0))]"
   ]
  },
  {
   "cell_type": "code",
   "execution_count": null,
   "metadata": {},
   "outputs": [],
   "source": [
    "# Designate the order of the x axis for the charts:\n",
    "order=['00:00-00:59','01:00-01:59','02:00-02:59','03:00-03:59','04:00-04:59','05:00-05:59',\n",
    "       '06:00-06:59','07:00-07:59','08:00-08:59','09:00-09:59','10:00-10:59','11:00-11:59',\n",
    "       '12:00-12:59','13:00-13:59','14:00-14:59','15:00-15:59','16:00-16:59','17:00-17:59',\n",
    "       '18:00-18:59','19:00-19:59','20:00-20:59','21:00-21:59','22:00-22:59','23:00-23:59']"
   ]
  },
  {
   "cell_type": "markdown",
   "metadata": {},
   "source": [
    "## CHART 1: STACKED LTC BY HOUR HANDLED"
   ]
  },
  {
   "cell_type": "code",
   "execution_count": null,
   "metadata": {
    "scrolled": false
   },
   "outputs": [],
   "source": [
    "if LTC == (list(df1['LTC Center'].unique())):\n",
    "    LTC1 = 'All Locations'\n",
    "else:\n",
    "    LTC1 = LTC[0]\n",
    "if SHIFT == (list(df1['Shift'].unique())):\n",
    "    SHIFT1 = 'All Shifts'\n",
    "else:\n",
    "    SHIFT1 = SHIFT[0]\n",
    "if SERVICE == (list(df1['Service'].unique())):\n",
    "    SERVICE1 = 'PRTY + ECON'\n",
    "else:\n",
    "    SERVICE1 = SERVICE[0]\n",
    "\n",
    "\n",
    "sns.set_style('white')\n",
    "plt.figure(figsize=(13, 6))\n",
    " \n",
    "ax = sns.countplot(x='Handled Hour', data=toplayer_SET1, color='red',\n",
    "                   order=order, label='Damage')\n",
    "ax.tick_params(axis='x', colors='midnightblue')\n",
    "\n",
    "# Add totals for all exceptions to the tops of the bars:\n",
    "for p in ax.patches:\n",
    "    ax.annotate(format(p.get_height(), '.0f'),\n",
    "                (p.get_x() + p.get_width() / 2., p.get_height()),\n",
    "                ha='center',va='center',\n",
    "                xytext=(0, 6),textcoords='offset points',\n",
    "                size=14,color='black',weight='bold')\n",
    "\n",
    "ax2 = sns.countplot(x='Handled Hour', data=middlelayer_SET1, color='blue',\n",
    "                    order=order, label='Shortage')\n",
    "\n",
    "ax3 = sns.countplot(x='Handled Hour', data=refused, color='green',\n",
    "                    order=order, label='Refusal')\n",
    "\n",
    "plt.suptitle(SERVICE1 +' Time Based Exception Identification', fontsize=20, fontweight='bold', y=0.96,x=0.52)\n",
    "\n",
    "plt.title(SET1_SD+'  to  '+SET1_ED, size=15, y=1, x=0.5)\n",
    "\n",
    "ax.grid(alpha=0.5)\n",
    "\n",
    "plt.xticks(rotation='vertical')\n",
    "\n",
    "ax.set_xlabel('Hour Last Handled Clear',\n",
    "              labelpad=20)\n",
    "ax.set_ylabel(LTC1+' '+SHIFT1+' Exception Count',color='darkred',weight='bold',size=14,labelpad=10)\n",
    "\n",
    "plt.legend(loc=1)\n",
    "plt.tight_layout()\n",
    "\n",
    "#plt.savefig('plots/1_stacked_LTC_hour.jpg', bbox_inches='tight')\n",
    "\n",
    "plt.show();"
   ]
  },
  {
   "cell_type": "markdown",
   "metadata": {},
   "source": [
    "## CHART 2: LTC BY HOUR HANDLED"
   ]
  },
  {
   "cell_type": "code",
   "execution_count": null,
   "metadata": {
    "scrolled": false
   },
   "outputs": [],
   "source": [
    "if LTC == (list(df1['LTC Center'].unique())):\n",
    "    LTC2 = 'All Locations'\n",
    "else:\n",
    "    LTC2 = LTC[0]\n",
    "if SHIFT == (list(df1['Shift'].unique())):\n",
    "    SHIFT2 = 'All Shifts'\n",
    "else:\n",
    "    SHIFT2 = SHIFT[0]\n",
    "if SERVICE == (list(df1['Service'].unique())):\n",
    "    SERVICE2 = 'PRTY + ECON'\n",
    "else:\n",
    "    SERVICE2 = SERVICE[0]\n",
    "\n",
    "plt.figure(figsize=(13, 16))\n",
    "\n",
    "# ***** LTC Damages By Hour Handled: Position 1 *****\n",
    "\n",
    "plt.subplot(311)\n",
    "\n",
    "ax.subplot = sns.countplot(x='Handled Hour', data=damage, color='red',\n",
    "                           order=order,label='Damage')\n",
    "ax.subplot.tick_params(axis='x', colors='midnightblue')\n",
    "\n",
    "plt.title(SET1_SD+'  to  '+SET1_ED, size=15, y=1, x=0.5)\n",
    "\n",
    "ax.subplot.grid(alpha=0.5)\n",
    "\n",
    "ax.subplot.set_ylabel('DAMAGE Exception Count'\n",
    "                      ,color='darkred',weight='bold',size=16,\n",
    "                      labelpad=10)\n",
    "ax.subplot.set_xlabel('Hour Last Handled Clear',\n",
    "                      labelpad=10)\n",
    "\n",
    "# Add totals to the tops of the bars:\n",
    "for p in ax.subplot.patches:\n",
    "    y_value = p.get_height()\n",
    "    x_value = p.get_x() + p.get_width() / 2  \n",
    "    spacing = 5\n",
    "\n",
    "    # Create annotation\n",
    "    ax.subplot.annotate(\n",
    "        '{:.0f}'.format(y_value),\n",
    "        (x_value, y_value),\n",
    "        xytext=(0, spacing),\n",
    "        textcoords=\"offset points\",\n",
    "        ha='center',\n",
    "        va = 'center',\n",
    "        size=14,\n",
    "        weight='bold')\n",
    "\n",
    "plt.xticks(rotation='vertical')\n",
    "\n",
    "# ***** LTC Shortages By Hour: Position 2 *****\n",
    "\n",
    "plt.subplot(312)\n",
    "plt.subplot(312,sharey=ax.subplot)\n",
    "ax2.subplot = sns.countplot(x='Handled Hour', data=shortage, color='blue',\n",
    "                            order=order)\n",
    "ax2.subplot.tick_params(axis='x', colors='midnightblue')\n",
    "ax2.subplot.grid(alpha=0.5)\n",
    "\n",
    "ax2.subplot.set_ylabel('SHORTAGE Exception Count',\n",
    "                       color='darkblue',weight='bold',size=16,\n",
    "                       labelpad=10)\n",
    "ax2.subplot.set_xlabel('Hour Last Handled Clear',\n",
    "                       labelpad=10)\n",
    "\n",
    "# Add totals to the tops of the bars:\n",
    "for p in ax2.subplot.patches:\n",
    "    y_value = p.get_height()\n",
    "    x_value = p.get_x() + p.get_width() / 2  \n",
    "    spacing = 5\n",
    "\n",
    "    # Create annotation\n",
    "    ax2.subplot.annotate(\n",
    "        '{:.0f}'.format(y_value),\n",
    "        (x_value, y_value),\n",
    "        xytext=(0, spacing),\n",
    "        textcoords=\"offset points\",\n",
    "        ha='center',\n",
    "        va = 'center',\n",
    "        size=14,\n",
    "        weight='bold')\n",
    "\n",
    "plt.xticks(rotation='vertical')\n",
    "\n",
    "# ***** LTC Dmg-Refusals By Hour: Position 3 *****\n",
    "\n",
    "plt.subplot(313)\n",
    "plt.subplot(313,sharey=ax.subplot)\n",
    "ax3.subplot = sns.countplot(x='Handled Hour', data=refused, color='green',\n",
    "                            order=order)\n",
    "ax3.subplot.tick_params(axis='x', colors='midnightblue')\n",
    "ax3.subplot.grid(alpha=0.5)\n",
    "\n",
    "ax3.subplot.set_ylabel('DMG-REFUSED Exception Count',\n",
    "                       color='darkgreen',weight='bold',size=16,\n",
    "                       labelpad=10)\n",
    "ax3.subplot.set_xlabel('Hour Last Handled Clear',\n",
    "                       labelpad=10)\n",
    "    \n",
    "# Add totals to the tops of the bars:\n",
    "for p in ax3.subplot.patches:\n",
    "    y_value = p.get_height()\n",
    "    x_value = p.get_x() + p.get_width() / 2  \n",
    "    spacing = 5\n",
    "\n",
    "    # Create annotation\n",
    "    ax3.subplot.annotate(\n",
    "        '{:.0f}'.format(y_value),\n",
    "        (x_value, y_value),\n",
    "        xytext=(0, spacing),\n",
    "        textcoords=\"offset points\",\n",
    "        ha='center',\n",
    "        va = 'center',\n",
    "        size=14,\n",
    "        weight='bold')\n",
    "\n",
    "plt.xticks(rotation='vertical')\n",
    "plt.suptitle(LTC1+' '+SHIFT1+' '+'Time Based Exception Identification: '+SERVICE1+' Service', fontsize=20, fontweight='bold', y=0.99)\n",
    "plt.tight_layout()\n",
    "plt.savefig('plots/2_LTC_by_hour.jpg', bbox_inches='tight')\n",
    "plt.show();\n"
   ]
  },
  {
   "cell_type": "markdown",
   "metadata": {},
   "source": [
    "## CHART 3: LTC DAMAGE TOTALS BY DAY OF THE WEEK"
   ]
  },
  {
   "cell_type": "code",
   "execution_count": null,
   "metadata": {},
   "outputs": [],
   "source": [
    "if LTC == (list(df1['LTC Center'].unique())):\n",
    "    LTC3 = 'All Locations'\n",
    "else:\n",
    "    LTC3 = LTC[0]\n",
    "if SHIFT == (list(df1['Shift'].unique())):\n",
    "    SHIFT3 = 'All Shifts'\n",
    "else:\n",
    "    SHIFT3 = SHIFT[0]\n",
    "if SERVICE == (list(df1['Service'].unique())):\n",
    "    SERVICE3 = 'PRTY + ECON'\n",
    "else:\n",
    "    SERVICE3 = SERVICE[0]\n",
    "\n",
    "plt.figure(figsize=(7, 5))\n",
    "\n",
    "ax = sns.countplot(x=\"Weekday\",data=damage,order=damage['Weekday'].value_counts().iloc[:7].index)\n",
    "\n",
    "ax.set_xlabel(SET1_SD+'  to  '+SET1_ED,\n",
    "             labelpad=10,size=15)\n",
    "\n",
    "ax.set_ylabel('Total '+LTC3+' '+SHIFT3+' Damages',weight='bold',\n",
    "             labelpad=10,size=15,color='darkred')\n",
    "\n",
    "# Add totals to the tops of the bars:\n",
    "for p in ax.patches:\n",
    "    y_value = p.get_height()\n",
    "    x_value = p.get_x() + p.get_width() / 2\n",
    "    label = '{:.0f}'.format(y_value)\n",
    "    va = 'bottom'\n",
    "    spacing = 4\n",
    "\n",
    "    # Create annotation\n",
    "    ax.annotate(\n",
    "        label,\n",
    "        (x_value, y_value),\n",
    "        xytext=(0, spacing),\n",
    "        textcoords=\"offset points\",\n",
    "        ha='center',\n",
    "        va=va,\n",
    "        size=22,\n",
    "        weight='bold')\n",
    "\n",
    "# Remove the top and right borders from the plot area:\n",
    "sns.despine()\n",
    "\n",
    "plt.suptitle('Top Weekdays: '+SERVICE3, fontsize=20, fontweight='bold', y=0.99)\n",
    "plt.setp(ax.get_xticklabels(), fontsize=14, color='midnightblue')\n",
    "\n",
    "plt.tight_layout()\n",
    "plt.savefig('plots/3_LTC_damage_day.jpg', bbox_inches='tight')\n",
    "\n",
    "plt.show();"
   ]
  },
  {
   "cell_type": "markdown",
   "metadata": {},
   "source": [
    "## CHART 4: LTC SHORTAGE TOTALS BY DAY OF THE WEEK"
   ]
  },
  {
   "cell_type": "code",
   "execution_count": null,
   "metadata": {},
   "outputs": [],
   "source": [
    "if LTC == (list(df1['LTC Center'].unique())):\n",
    "    LTC4 = 'All Locations'\n",
    "else:\n",
    "    LTC4 = LTC[0]\n",
    "if SHIFT == (list(df1['Shift'].unique())):\n",
    "    SHIFT4 = 'All Shifts'\n",
    "else:\n",
    "    SHIFT4 = SHIFT[0]\n",
    "if SERVICE == (list(df1['Service'].unique())):\n",
    "    SERVICE4 = 'PRTY + ECON'\n",
    "else:\n",
    "    SERVICE4 = SERVICE[0]\n",
    "\n",
    "plt.figure(figsize=(7, 5))\n",
    "#plt.title(SET1_SD+'  to  '+SET1_ED, size=15, y=1, x=0.5)\n",
    "\n",
    "ax = sns.countplot(x=\"Weekday\",data=shortage,order=shortage['Weekday'].value_counts().iloc[:7].index)\n",
    "\n",
    "ax.set_xlabel(SET1_SD+'  to  '+SET1_ED,\n",
    "             labelpad=10,size=15)\n",
    "\n",
    "ax.set_ylabel('Total '+LTC3+' '+SHIFT3+' Shortages',weight='bold',\n",
    "             labelpad=10,size=15,color='blue')\n",
    "\n",
    "# Add totals to the tops of the bars:\n",
    "for p in ax.patches:\n",
    "    y_value = p.get_height()\n",
    "    x_value = p.get_x() + p.get_width() / 2\n",
    "    label = '{:.0f}'.format(y_value)\n",
    "    va = 'bottom'\n",
    "    spacing = 4\n",
    "\n",
    "    # Create annotation\n",
    "    ax.annotate(\n",
    "        label,\n",
    "        (x_value, y_value),\n",
    "        xytext=(0, spacing),\n",
    "        textcoords=\"offset points\",\n",
    "        ha='center',\n",
    "        va=va,\n",
    "        size=22,\n",
    "        weight='bold')\n",
    "\n",
    "# Remove the top and right borders from the plot area:\n",
    "sns.despine()\n",
    "\n",
    "plt.suptitle('Top Weekdays: '+SERVICE3, fontsize=20, fontweight='bold', y=0.99)\n",
    "plt.setp(ax.get_xticklabels(), fontsize=14, color='midnightblue')\n",
    "\n",
    "plt.tight_layout()\n",
    "plt.savefig('plots/4_LTC_short_day.jpg', bbox_inches='tight')\n",
    "\n",
    "plt.show();"
   ]
  },
  {
   "cell_type": "markdown",
   "metadata": {},
   "source": [
    "## CHART 5: LTC DAMAGE-REFUSED TOTALS BY DAY OF THE WEEK"
   ]
  },
  {
   "cell_type": "code",
   "execution_count": null,
   "metadata": {},
   "outputs": [],
   "source": [
    "if LTC == (list(df1['LTC Center'].unique())):\n",
    "    LTC5 = 'All Locations'\n",
    "else:\n",
    "    LTC5 = LTC[0]\n",
    "if SHIFT == (list(df1['Shift'].unique())):\n",
    "    SHIFT5 = 'All Shifts'\n",
    "else:\n",
    "    SHIFT5 = SHIFT[0]\n",
    "if SERVICE == (list(df1['Service'].unique())):\n",
    "    SERVICE5 = 'PRTY + ECON'\n",
    "else:\n",
    "    SERVICE5 = SERVICE[0]\n",
    "\n",
    "plt.figure(figsize=(7, 5))\n",
    "#plt.title(SET1_SD+'  to  '+SET1_ED, size=15, y=1, x=0.5)\n",
    "\n",
    "ax = sns.countplot(x=\"Weekday\",data=refused,order=shortage['Weekday'].value_counts().iloc[:7].index)\n",
    "\n",
    "ax.set_xlabel(SET1_SD+'  to  '+SET1_ED,\n",
    "             labelpad=10,size=15)\n",
    "\n",
    "ax.set_ylabel('Total '+LTC3+' '+SHIFT3+' Refusals',weight='bold',\n",
    "             labelpad=10,size=15,color='green')\n",
    "\n",
    "# Add totals to the tops of the bars:\n",
    "for p in ax.patches:\n",
    "    y_value = p.get_height()\n",
    "    x_value = p.get_x() + p.get_width() / 2\n",
    "    label = '{:.0f}'.format(y_value)\n",
    "    va = 'bottom'\n",
    "    spacing = 4\n",
    "\n",
    "    # Create annotation\n",
    "    ax.annotate(\n",
    "        label,\n",
    "        (x_value, y_value),\n",
    "        xytext=(0, spacing),\n",
    "        textcoords=\"offset points\",\n",
    "        ha='center',\n",
    "        va=va,\n",
    "        size=22,\n",
    "        weight='bold')\n",
    "\n",
    "# Remove the top and right borders from the plot area:\n",
    "sns.despine()\n",
    "\n",
    "plt.suptitle('Top Weekdays: '+SERVICE3, fontsize=20, fontweight='bold', y=0.99)\n",
    "plt.setp(ax.get_xticklabels(), fontsize=14, color='midnightblue')\n",
    "\n",
    "plt.tight_layout()\n",
    "plt.savefig('plots/5_LTC_refused_day.jpg', bbox_inches='tight')\n",
    "\n",
    "plt.show();"
   ]
  },
  {
   "cell_type": "markdown",
   "metadata": {},
   "source": [
    "## CREATE NEW DATAFRAME FOR TIME FRAME COMPARISONS"
   ]
  },
  {
   "cell_type": "code",
   "execution_count": null,
   "metadata": {},
   "outputs": [],
   "source": [
    "# Data for new DataFrame to ensure every hour is represented in comparison plot:\n",
    "count = [0,0,0,0,0,0,0,0,0,0,0,0,0,0,0,0,0,0,0,0,0,0,0,0]\n",
    "\n",
    "# Create new base DataFrame:\n",
    "base = pd.DataFrame([order,count]).transpose()\n",
    "base.columns = ['Handled Hour','Base Count']"
   ]
  },
  {
   "cell_type": "code",
   "execution_count": null,
   "metadata": {},
   "outputs": [],
   "source": [
    "# Create new DataFrame for the filtered & comparison DataFrames:\n",
    "filtered = toplayer_SET1['Handled Hour'].value_counts().sort_index()\\\n",
    ".rename_axis('Handled Hour').reset_index(name='Filtered Count')\n",
    "\n",
    "compare = toplayer_SET2['Handled Hour'].value_counts().sort_index()\\\n",
    ".rename_axis('Handled Hour').reset_index(name='Comparison Count')"
   ]
  },
  {
   "cell_type": "code",
   "execution_count": null,
   "metadata": {},
   "outputs": [],
   "source": [
    "# Combine the base with filtered:\n",
    "combined = base.merge(filtered, how='left', left_on='Handled Hour', right_on='Handled Hour')\n",
    "\n",
    "# Add the compare totals to the new DataFrame:\n",
    "combined = combined.merge(compare, how='left', left_on='Handled Hour', right_on='Handled Hour')\n",
    "combined.columns = ['Handled Hour','Base','Filter','Compare']"
   ]
  },
  {
   "cell_type": "code",
   "execution_count": null,
   "metadata": {},
   "outputs": [],
   "source": [
    "# Replace NaN's with zeroes:\n",
    "combined = combined.fillna(0)"
   ]
  },
  {
   "cell_type": "code",
   "execution_count": null,
   "metadata": {},
   "outputs": [],
   "source": [
    "# Get the change by subtracting the compare values from the filtered values:\n",
    "combined['Change'] = (combined['Filter'] - combined['Compare'])\n",
    "\n",
    "# Remove any NaN values if present:\n",
    "combined = combined.fillna(0)\n",
    "\n",
    "combined['Change'] = combined['Change'].astype(int)"
   ]
  },
  {
   "cell_type": "code",
   "execution_count": null,
   "metadata": {},
   "outputs": [],
   "source": [
    "# Create new column that can be referenced in the comparison plot:\n",
    "increase = []\n",
    "decrease = []\n",
    "\n",
    "# Build the increase column values:\n",
    "for i in combined['Change']:\n",
    "    if i > 0:\n",
    "        increase.append(i)\n",
    "    else:\n",
    "        increase.append(None)\n",
    "combined['Increase'] = increase\n",
    "\n",
    "# Build the decrease column values:        \n",
    "for i in combined['Change']:\n",
    "    if i < 0:\n",
    "        decrease.append(i)\n",
    "    else:\n",
    "        decrease.append(None)\n",
    "combined['Decrease'] = decrease"
   ]
  },
  {
   "cell_type": "markdown",
   "metadata": {},
   "source": [
    "## CHART 6: LTC EXCEPTION COMPARISONS BY HOUR HANDLED"
   ]
  },
  {
   "cell_type": "code",
   "execution_count": null,
   "metadata": {
    "scrolled": true
   },
   "outputs": [],
   "source": [
    "if LTC == (list(df1['LTC Center'].unique())):\n",
    "    LTC6 = 'All Locations'\n",
    "else:\n",
    "    LTC6 = LTC[0]\n",
    "if SHIFT == (list(df1['Shift'].unique())):\n",
    "    SHIFT6 = 'All Shifts'\n",
    "else:\n",
    "    SHIFT6 = SHIFT[0]\n",
    "\n",
    "plt.figure(figsize=(13, 6))\n",
    "\n",
    "# Plot all increased & decreased y values on the same axis:\n",
    "ax=sns.barplot(x='Handled Hour',y='Increase', data=combined, color='r')\n",
    "ax=sns.barplot(x='Handled Hour',y='Decrease', data=combined, color='forestgreen', alpha=0.3)\n",
    "\n",
    "# Ensure 0 value is always in the center of the plot:\n",
    "yabs_max = abs(max(ax.get_ylim(), key=abs))\n",
    "ax.set_ylim(ymin=-yabs_max -2, ymax=yabs_max+2)\n",
    "\n",
    "# Draw line at zero position:\n",
    "ax.axhline(y=0.0,\n",
    "           color='black',\n",
    "           linestyle='-',\n",
    "           linewidth=0.3)\n",
    "\n",
    "plt.xticks(rotation='vertical')\n",
    "\n",
    "plt.suptitle('Time Based Exception Comparison: Negative = Improvement',fontsize=20,fontweight='bold',y=0.99,x=0.53)\n",
    "\n",
    "plt.title('Range ('+SET1_SD+' to '+SET1_ED+') vs. Range ('+SET2_SD+' to '+SET2_ED+')',size=15,y=1)\n",
    "\n",
    "# Place values above & below each bar in the plot:\n",
    "for p in ax.patches:\n",
    "    y_value = p.get_height()\n",
    "    x_value = p.get_x() + p.get_width() / 2\n",
    "\n",
    "    # If value of bar is negative: Place label below bar\n",
    "    if y_value < 0:\n",
    "        spacing = 18\n",
    "        va = 'top'\n",
    "        label = '{:.0f}'.format(y_value)\n",
    "        \n",
    "        \n",
    "    # If value of bar is positive: Place label above bar\n",
    "    if y_value > 0:\n",
    "        label = '+'+ '{:.0f}'.format(y_value)\n",
    "        va = 'bottom'\n",
    "        spacing = 1\n",
    "\n",
    "    # Create annotation\n",
    "    ax.annotate(\n",
    "        label,\n",
    "        (x_value, y_value),\n",
    "        xytext=(0, spacing),\n",
    "        textcoords=\"offset points\",\n",
    "        ha='center',\n",
    "        va=va,\n",
    "        size=18,\n",
    "        fontweight='bold')\n",
    "    \n",
    "ax.set_ylabel(LTC6+' '+SHIFT6+' Exception Difference',\n",
    "              color='darkred',\n",
    "              weight='bold',\n",
    "              size=16,\n",
    "              labelpad=10)\n",
    "\n",
    "ax.set_xlabel('Hour Last Handled Clear',labelpad=10)\n",
    "ax.tick_params(axis='x', colors='midnightblue')\n",
    "\n",
    "ax.grid(alpha=0.5)    \n",
    "    \n",
    "plt.tight_layout()\n",
    "plt.savefig('plots/6_LTC_comparison.jpg', bbox_inches='tight')\n",
    "plt.show();"
   ]
  }
 ],
 "metadata": {
  "kernelspec": {
   "display_name": "Python 3",
   "language": "python",
   "name": "python3"
  },
  "language_info": {
   "codemirror_mode": {
    "name": "ipython",
    "version": 3
   },
   "file_extension": ".py",
   "mimetype": "text/x-python",
   "name": "python",
   "nbconvert_exporter": "python",
   "pygments_lexer": "ipython3",
   "version": "3.8.5"
  }
 },
 "nbformat": 4,
 "nbformat_minor": 4
}
